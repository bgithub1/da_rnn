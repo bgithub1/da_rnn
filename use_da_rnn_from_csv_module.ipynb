{
 "cells": [
  {
   "cell_type": "markdown",
   "metadata": {},
   "source": [
    "## Use da_rnn_from_csv.py"
   ]
  },
  {
   "cell_type": "code",
   "execution_count": null,
   "metadata": {},
   "outputs": [],
   "source": [
    "import sys,os\n",
    "import pandas as pd\n",
    "import da_rnn_from_csv as drfc"
   ]
  },
  {
   "cell_type": "markdown",
   "metadata": {},
   "source": [
    "### Run the model"
   ]
  },
  {
   "cell_type": "code",
   "execution_count": null,
   "metadata": {
    "scrolled": true
   },
   "outputs": [],
   "source": [
    "fname_no_ext = 'nasdaq100_padding'\n",
    "rows_to_use = 40000\n",
    "return_dict = drfc.main(FILE_NAME_NO_EXTENSION=fname_no_ext,subset_rows=rows_to_use)\n",
    "df_partial = return_dict['dataframe']\n",
    "m = return_dict['model']\n"
   ]
  },
  {
   "cell_type": "markdown",
   "metadata": {},
   "source": [
    "### What does the model return?"
   ]
  },
  {
   "cell_type": "code",
   "execution_count": null,
   "metadata": {},
   "outputs": [],
   "source": [
    "print(f'The model returns a dictionary with keys {list(return_dict.keys())}')"
   ]
  },
  {
   "cell_type": "markdown",
   "metadata": {},
   "source": [
    "### Plot a sub-section of the output to zoom in on the differences between y_act and y_pred"
   ]
  },
  {
   "cell_type": "code",
   "execution_count": null,
   "metadata": {},
   "outputs": [],
   "source": [
    "test_size = return_dict['test_size']\n",
    "y_act = m.y[-1*test_size:]\n",
    "y_pred = return_dict['y_pred'][-1 * test_size:]\n",
    "print(test_size,len(y_act),len(y_pred))\n",
    "df_review = pd.DataFrame({'y_act':y_act,'y_pred':y_pred})\n",
    "\n",
    "num_to_view = 200\n",
    "\n",
    "beg_index = 1\n",
    "end_index = beg_index+num_to_view\n",
    "df_review.iloc[beg_index:end_index].plot(y=['y_act','y_pred'],figsize=(12,10))"
   ]
  },
  {
   "cell_type": "code",
   "execution_count": null,
   "metadata": {},
   "outputs": [],
   "source": []
  }
 ],
 "metadata": {
  "kernelspec": {
   "display_name": "Python 3",
   "language": "python",
   "name": "python3"
  },
  "language_info": {
   "codemirror_mode": {
    "name": "ipython",
    "version": 3
   },
   "file_extension": ".py",
   "mimetype": "text/x-python",
   "name": "python",
   "nbconvert_exporter": "python",
   "pygments_lexer": "ipython3",
   "version": "3.6.5"
  }
 },
 "nbformat": 4,
 "nbformat_minor": 2
}
