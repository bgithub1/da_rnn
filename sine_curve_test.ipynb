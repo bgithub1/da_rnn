{
 "cells": [
  {
   "cell_type": "markdown",
   "metadata": {},
   "source": [
    "## Sine curve test\n",
    "### This notebook shows how to import da_rnn_from_csv.py to use the da_rnn class.  (WARNING: the training takes about 20 minutes to run on a 2016 Macbook Pro)\n",
    "\n",
    "### The notebook cells do the following:  \n",
    "1. Create ocillating values using np.sin;\n",
    "2. Save a DataFrame with 2 columns;  \n",
    " * x_vals = degrees from 0 to 36000, 4 degrees spacing\n",
    " * y_vals = np.sin(x_vals * np.pi / 180)\n",
    "3. Name the column with the y_values \"close\";\n",
    "4. Save the DataFrame to data/sin_vals.csv;\n",
    "5. Run da_rnn_from_csv.main using 5000 rows;\n",
    "6. Plot the y_act values vs y_pred values to show that they align."
   ]
  },
  {
   "cell_type": "markdown",
   "metadata": {},
   "source": [
    "### Imports"
   ]
  },
  {
   "cell_type": "code",
   "execution_count": null,
   "metadata": {},
   "outputs": [],
   "source": [
    "import pandas as pd\n",
    "import sys,os\n",
    "import numpy as np\n",
    "import pandas as pd\n",
    "import da_rnn_from_csv as drfc"
   ]
  },
  {
   "cell_type": "markdown",
   "metadata": {},
   "source": [
    "### Create csv"
   ]
  },
  {
   "cell_type": "code",
   "execution_count": null,
   "metadata": {},
   "outputs": [],
   "source": [
    "noise_level = .1\n",
    "x_vals = np.linspace(0,360*100,360*100/4 + 1)\n",
    "y_vals = np.sin(x_vals*np.pi/180)\n",
    "y_vals = y_vals + np.random.randn(len(y_vals)) * noise_level\n",
    "df = pd.DataFrame({'x_vals':x_vals,'close':y_vals})\n",
    "df.to_csv('data/sin_vals.csv',index=False)"
   ]
  },
  {
   "cell_type": "markdown",
   "metadata": {},
   "source": [
    "### Run the da_rnn model"
   ]
  },
  {
   "cell_type": "code",
   "execution_count": null,
   "metadata": {},
   "outputs": [],
   "source": [
    "fname_no_ext = 'sin_vals'\n",
    "rows_to_use = 5000\n",
    "return_dict = drfc.main(FILE_NAME_NO_EXTENSION=fname_no_ext,subset_rows=rows_to_use)\n",
    "df_partial = return_dict['dataframe']\n",
    "m = return_dict['model']\n"
   ]
  },
  {
   "cell_type": "markdown",
   "metadata": {},
   "source": [
    "### Plot a zoomed in portion of the DataFrame that compares y_act with y_pred"
   ]
  },
  {
   "cell_type": "code",
   "execution_count": null,
   "metadata": {},
   "outputs": [],
   "source": [
    "test_size = return_dict['test_size']\n",
    "y_act = m.y[-1*test_size:]\n",
    "y_pred = return_dict['y_pred'][-1 * test_size:]\n",
    "print(test_size,len(y_act),len(y_pred))\n",
    "df_review = pd.DataFrame({'y_act':y_act,'y_pred':y_pred})\n",
    "\n",
    "num_to_view = 30\n",
    "\n",
    "beg_index = 32\n",
    "end_index = beg_index+num_to_view\n",
    "df_review.iloc[beg_index:end_index].plot(y=['y_act','y_pred'],figsize=(12,10))"
   ]
  },
  {
   "cell_type": "code",
   "execution_count": null,
   "metadata": {},
   "outputs": [],
   "source": [
    "df_review.iloc[beg_index:end_index]"
   ]
  },
  {
   "cell_type": "code",
   "execution_count": null,
   "metadata": {},
   "outputs": [],
   "source": []
  }
 ],
 "metadata": {
  "kernelspec": {
   "display_name": "Python 3",
   "language": "python",
   "name": "python3"
  },
  "language_info": {
   "codemirror_mode": {
    "name": "ipython",
    "version": 3
   },
   "file_extension": ".py",
   "mimetype": "text/x-python",
   "name": "python",
   "nbconvert_exporter": "python",
   "pygments_lexer": "ipython3",
   "version": "3.6.5"
  }
 },
 "nbformat": 4,
 "nbformat_minor": 2
}
